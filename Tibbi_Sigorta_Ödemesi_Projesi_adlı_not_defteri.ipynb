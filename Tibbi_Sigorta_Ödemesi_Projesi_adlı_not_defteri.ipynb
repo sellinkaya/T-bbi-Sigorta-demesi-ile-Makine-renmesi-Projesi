{
  "cells": [
    {
      "cell_type": "markdown",
      "metadata": {
        "id": "view-in-github",
        "colab_type": "text"
      },
      "source": [
        "<a href=\"https://colab.research.google.com/github/sellinkaya/T-bbi-Sigorta-demesi-ile-Makine-renmesi-Projesi/blob/main/Tibbi_Sigorta_%C3%96demesi_Projesi_adl%C4%B1_not_defteri.ipynb\" target=\"_parent\"><img src=\"https://colab.research.google.com/assets/colab-badge.svg\" alt=\"Open In Colab\"/></a>"
      ]
    },
    {
      "cell_type": "code",
      "execution_count": 1,
      "metadata": {
        "colab": {
          "base_uri": "https://localhost:8080/",
          "height": 71
        },
        "id": "5B7wiWjiF4I8",
        "outputId": "744946d5-2a89-4f45-c299-eaeb462f5c37"
      },
      "outputs": [
        {
          "output_type": "display_data",
          "data": {
            "text/plain": [
              "<IPython.core.display.HTML object>"
            ],
            "text/html": [
              "\n",
              "     <input type=\"file\" id=\"files-1f6dad60-22b7-4d18-bd45-249ab7052c49\" name=\"files[]\" multiple disabled\n",
              "        style=\"border:none\" />\n",
              "     <output id=\"result-1f6dad60-22b7-4d18-bd45-249ab7052c49\">\n",
              "      Upload widget is only available when the cell has been executed in the\n",
              "      current browser session. Please rerun this cell to enable.\n",
              "      </output>\n",
              "      <script>// Copyright 2017 Google LLC\n",
              "//\n",
              "// Licensed under the Apache License, Version 2.0 (the \"License\");\n",
              "// you may not use this file except in compliance with the License.\n",
              "// You may obtain a copy of the License at\n",
              "//\n",
              "//      http://www.apache.org/licenses/LICENSE-2.0\n",
              "//\n",
              "// Unless required by applicable law or agreed to in writing, software\n",
              "// distributed under the License is distributed on an \"AS IS\" BASIS,\n",
              "// WITHOUT WARRANTIES OR CONDITIONS OF ANY KIND, either express or implied.\n",
              "// See the License for the specific language governing permissions and\n",
              "// limitations under the License.\n",
              "\n",
              "/**\n",
              " * @fileoverview Helpers for google.colab Python module.\n",
              " */\n",
              "(function(scope) {\n",
              "function span(text, styleAttributes = {}) {\n",
              "  const element = document.createElement('span');\n",
              "  element.textContent = text;\n",
              "  for (const key of Object.keys(styleAttributes)) {\n",
              "    element.style[key] = styleAttributes[key];\n",
              "  }\n",
              "  return element;\n",
              "}\n",
              "\n",
              "// Max number of bytes which will be uploaded at a time.\n",
              "const MAX_PAYLOAD_SIZE = 100 * 1024;\n",
              "\n",
              "function _uploadFiles(inputId, outputId) {\n",
              "  const steps = uploadFilesStep(inputId, outputId);\n",
              "  const outputElement = document.getElementById(outputId);\n",
              "  // Cache steps on the outputElement to make it available for the next call\n",
              "  // to uploadFilesContinue from Python.\n",
              "  outputElement.steps = steps;\n",
              "\n",
              "  return _uploadFilesContinue(outputId);\n",
              "}\n",
              "\n",
              "// This is roughly an async generator (not supported in the browser yet),\n",
              "// where there are multiple asynchronous steps and the Python side is going\n",
              "// to poll for completion of each step.\n",
              "// This uses a Promise to block the python side on completion of each step,\n",
              "// then passes the result of the previous step as the input to the next step.\n",
              "function _uploadFilesContinue(outputId) {\n",
              "  const outputElement = document.getElementById(outputId);\n",
              "  const steps = outputElement.steps;\n",
              "\n",
              "  const next = steps.next(outputElement.lastPromiseValue);\n",
              "  return Promise.resolve(next.value.promise).then((value) => {\n",
              "    // Cache the last promise value to make it available to the next\n",
              "    // step of the generator.\n",
              "    outputElement.lastPromiseValue = value;\n",
              "    return next.value.response;\n",
              "  });\n",
              "}\n",
              "\n",
              "/**\n",
              " * Generator function which is called between each async step of the upload\n",
              " * process.\n",
              " * @param {string} inputId Element ID of the input file picker element.\n",
              " * @param {string} outputId Element ID of the output display.\n",
              " * @return {!Iterable<!Object>} Iterable of next steps.\n",
              " */\n",
              "function* uploadFilesStep(inputId, outputId) {\n",
              "  const inputElement = document.getElementById(inputId);\n",
              "  inputElement.disabled = false;\n",
              "\n",
              "  const outputElement = document.getElementById(outputId);\n",
              "  outputElement.innerHTML = '';\n",
              "\n",
              "  const pickedPromise = new Promise((resolve) => {\n",
              "    inputElement.addEventListener('change', (e) => {\n",
              "      resolve(e.target.files);\n",
              "    });\n",
              "  });\n",
              "\n",
              "  const cancel = document.createElement('button');\n",
              "  inputElement.parentElement.appendChild(cancel);\n",
              "  cancel.textContent = 'Cancel upload';\n",
              "  const cancelPromise = new Promise((resolve) => {\n",
              "    cancel.onclick = () => {\n",
              "      resolve(null);\n",
              "    };\n",
              "  });\n",
              "\n",
              "  // Wait for the user to pick the files.\n",
              "  const files = yield {\n",
              "    promise: Promise.race([pickedPromise, cancelPromise]),\n",
              "    response: {\n",
              "      action: 'starting',\n",
              "    }\n",
              "  };\n",
              "\n",
              "  cancel.remove();\n",
              "\n",
              "  // Disable the input element since further picks are not allowed.\n",
              "  inputElement.disabled = true;\n",
              "\n",
              "  if (!files) {\n",
              "    return {\n",
              "      response: {\n",
              "        action: 'complete',\n",
              "      }\n",
              "    };\n",
              "  }\n",
              "\n",
              "  for (const file of files) {\n",
              "    const li = document.createElement('li');\n",
              "    li.append(span(file.name, {fontWeight: 'bold'}));\n",
              "    li.append(span(\n",
              "        `(${file.type || 'n/a'}) - ${file.size} bytes, ` +\n",
              "        `last modified: ${\n",
              "            file.lastModifiedDate ? file.lastModifiedDate.toLocaleDateString() :\n",
              "                                    'n/a'} - `));\n",
              "    const percent = span('0% done');\n",
              "    li.appendChild(percent);\n",
              "\n",
              "    outputElement.appendChild(li);\n",
              "\n",
              "    const fileDataPromise = new Promise((resolve) => {\n",
              "      const reader = new FileReader();\n",
              "      reader.onload = (e) => {\n",
              "        resolve(e.target.result);\n",
              "      };\n",
              "      reader.readAsArrayBuffer(file);\n",
              "    });\n",
              "    // Wait for the data to be ready.\n",
              "    let fileData = yield {\n",
              "      promise: fileDataPromise,\n",
              "      response: {\n",
              "        action: 'continue',\n",
              "      }\n",
              "    };\n",
              "\n",
              "    // Use a chunked sending to avoid message size limits. See b/62115660.\n",
              "    let position = 0;\n",
              "    do {\n",
              "      const length = Math.min(fileData.byteLength - position, MAX_PAYLOAD_SIZE);\n",
              "      const chunk = new Uint8Array(fileData, position, length);\n",
              "      position += length;\n",
              "\n",
              "      const base64 = btoa(String.fromCharCode.apply(null, chunk));\n",
              "      yield {\n",
              "        response: {\n",
              "          action: 'append',\n",
              "          file: file.name,\n",
              "          data: base64,\n",
              "        },\n",
              "      };\n",
              "\n",
              "      let percentDone = fileData.byteLength === 0 ?\n",
              "          100 :\n",
              "          Math.round((position / fileData.byteLength) * 100);\n",
              "      percent.textContent = `${percentDone}% done`;\n",
              "\n",
              "    } while (position < fileData.byteLength);\n",
              "  }\n",
              "\n",
              "  // All done.\n",
              "  yield {\n",
              "    response: {\n",
              "      action: 'complete',\n",
              "    }\n",
              "  };\n",
              "}\n",
              "\n",
              "scope.google = scope.google || {};\n",
              "scope.google.colab = scope.google.colab || {};\n",
              "scope.google.colab._files = {\n",
              "  _uploadFiles,\n",
              "  _uploadFilesContinue,\n",
              "};\n",
              "})(self);\n",
              "</script> "
            ]
          },
          "metadata": {}
        },
        {
          "output_type": "stream",
          "name": "stdout",
          "text": [
            "Saving insurance.csv to insurance (1).csv\n"
          ]
        }
      ],
      "source": [
        "from google.colab import files\n",
        "uploaded = files.upload()\n",
        "\n",
        "# Gerekli kütüphanelerin yüklenmesi\n",
        "import pandas as pd\n",
        "import numpy as np\n",
        "import matplotlib.pyplot as plt\n",
        "import seaborn as sns\n",
        "\n",
        "from sklearn.decomposition import PCA\n",
        "from sklearn.model_selection import train_test_split\n",
        "from sklearn.linear_model import LinearRegression, Ridge\n",
        "from sklearn.ensemble import RandomForestRegressor\n",
        "from sklearn.pipeline import Pipeline\n",
        "from sklearn.preprocessing import StandardScaler\n",
        "from sklearn.metrics import mean_squared_error, r2_score\n",
        "\n"
      ]
    },
    {
      "cell_type": "markdown",
      "metadata": {
        "id": "2ovjoorDwuMe"
      },
      "source": [
        "İnceleyeceğiniz Python kodu, bir sigorta veri kümesi üzerinde keşifsel veri analizi (EDA) yapmak, verileri ön işlemek ve makine öğrenimi modelleri için hazırlamak amacıyla yazılmıştır.\n",
        "\n",
        "Veri Seti Hakkında\n",
        "ACME Insurance Inc., Amerika Birleşik Devletleri'nin her yerindeki binlerce müşteriye uygun fiyatlı sağlık sigortası sunmaktadır. Yaş, cinsiyet, BMI, çocuklar, sigara alışkanlıkları ve ikamet ettikleri bölge gibi bilgileri kullanarak yeni müşteriler için yıllık tıbbi harcamaları tahmin eden otomatik bir sistem oluşturmak hedeflenmiştir.\n"
      ]
    },
    {
      "cell_type": "code",
      "execution_count": 2,
      "metadata": {
        "id": "gn32G2lbwpLa"
      },
      "outputs": [],
      "source": [
        "import warnings\n",
        "warnings.filterwarnings('ignore')"
      ]
    },
    {
      "cell_type": "markdown",
      "metadata": {
        "id": "uXlmj_z-w1Ry"
      },
      "source": [
        "import warnings ve warnings.filterwarnings('ignore') satırları, Python kodunuz çalışırken ortaya çıkabilecek uyarı mesajlarını (warnings) gizlemek amacıyla kullanılır."
      ]
    },
    {
      "cell_type": "markdown",
      "metadata": {
        "id": "ERHNJpQjHZcc"
      },
      "source": []
    },
    {
      "cell_type": "code",
      "execution_count": 3,
      "metadata": {
        "id": "W7t6KRYZHFZY",
        "colab": {
          "base_uri": "https://localhost:8080/",
          "height": 543
        },
        "outputId": "83793609-a23d-46a4-db40-5329a4134cd4"
      },
      "outputs": [
        {
          "output_type": "stream",
          "name": "stdout",
          "text": [
            "<class 'pandas.core.frame.DataFrame'>\n",
            "RangeIndex: 1338 entries, 0 to 1337\n",
            "Data columns (total 7 columns):\n",
            " #   Column    Non-Null Count  Dtype  \n",
            "---  ------    --------------  -----  \n",
            " 0   age       1338 non-null   int64  \n",
            " 1   sex       1338 non-null   object \n",
            " 2   bmi       1338 non-null   float64\n",
            " 3   children  1338 non-null   int64  \n",
            " 4   smoker    1338 non-null   object \n",
            " 5   region    1338 non-null   object \n",
            " 6   charges   1338 non-null   object \n",
            "dtypes: float64(1), int64(2), object(4)\n",
            "memory usage: 73.3+ KB\n"
          ]
        },
        {
          "output_type": "execute_result",
          "data": {
            "text/plain": [
              "               age          bmi     children\n",
              "count  1338.000000  1338.000000  1338.000000\n",
              "mean     39.207025    30.663397     1.094918\n",
              "std      14.049960     6.098187     1.205493\n",
              "min      18.000000    15.960000     0.000000\n",
              "25%      27.000000    26.296250     0.000000\n",
              "50%      39.000000    30.400000     1.000000\n",
              "75%      51.000000    34.693750     2.000000\n",
              "max      64.000000    53.130000     5.000000"
            ],
            "text/html": [
              "\n",
              "  <div id=\"df-08bc6282-cd45-4118-86d6-d5c645242415\" class=\"colab-df-container\">\n",
              "    <div>\n",
              "<style scoped>\n",
              "    .dataframe tbody tr th:only-of-type {\n",
              "        vertical-align: middle;\n",
              "    }\n",
              "\n",
              "    .dataframe tbody tr th {\n",
              "        vertical-align: top;\n",
              "    }\n",
              "\n",
              "    .dataframe thead th {\n",
              "        text-align: right;\n",
              "    }\n",
              "</style>\n",
              "<table border=\"1\" class=\"dataframe\">\n",
              "  <thead>\n",
              "    <tr style=\"text-align: right;\">\n",
              "      <th></th>\n",
              "      <th>age</th>\n",
              "      <th>bmi</th>\n",
              "      <th>children</th>\n",
              "    </tr>\n",
              "  </thead>\n",
              "  <tbody>\n",
              "    <tr>\n",
              "      <th>count</th>\n",
              "      <td>1338.000000</td>\n",
              "      <td>1338.000000</td>\n",
              "      <td>1338.000000</td>\n",
              "    </tr>\n",
              "    <tr>\n",
              "      <th>mean</th>\n",
              "      <td>39.207025</td>\n",
              "      <td>30.663397</td>\n",
              "      <td>1.094918</td>\n",
              "    </tr>\n",
              "    <tr>\n",
              "      <th>std</th>\n",
              "      <td>14.049960</td>\n",
              "      <td>6.098187</td>\n",
              "      <td>1.205493</td>\n",
              "    </tr>\n",
              "    <tr>\n",
              "      <th>min</th>\n",
              "      <td>18.000000</td>\n",
              "      <td>15.960000</td>\n",
              "      <td>0.000000</td>\n",
              "    </tr>\n",
              "    <tr>\n",
              "      <th>25%</th>\n",
              "      <td>27.000000</td>\n",
              "      <td>26.296250</td>\n",
              "      <td>0.000000</td>\n",
              "    </tr>\n",
              "    <tr>\n",
              "      <th>50%</th>\n",
              "      <td>39.000000</td>\n",
              "      <td>30.400000</td>\n",
              "      <td>1.000000</td>\n",
              "    </tr>\n",
              "    <tr>\n",
              "      <th>75%</th>\n",
              "      <td>51.000000</td>\n",
              "      <td>34.693750</td>\n",
              "      <td>2.000000</td>\n",
              "    </tr>\n",
              "    <tr>\n",
              "      <th>max</th>\n",
              "      <td>64.000000</td>\n",
              "      <td>53.130000</td>\n",
              "      <td>5.000000</td>\n",
              "    </tr>\n",
              "  </tbody>\n",
              "</table>\n",
              "</div>\n",
              "    <div class=\"colab-df-buttons\">\n",
              "\n",
              "  <div class=\"colab-df-container\">\n",
              "    <button class=\"colab-df-convert\" onclick=\"convertToInteractive('df-08bc6282-cd45-4118-86d6-d5c645242415')\"\n",
              "            title=\"Convert this dataframe to an interactive table.\"\n",
              "            style=\"display:none;\">\n",
              "\n",
              "  <svg xmlns=\"http://www.w3.org/2000/svg\" height=\"24px\" viewBox=\"0 -960 960 960\">\n",
              "    <path d=\"M120-120v-720h720v720H120Zm60-500h600v-160H180v160Zm220 220h160v-160H400v160Zm0 220h160v-160H400v160ZM180-400h160v-160H180v160Zm440 0h160v-160H620v160ZM180-180h160v-160H180v160Zm440 0h160v-160H620v160Z\"/>\n",
              "  </svg>\n",
              "    </button>\n",
              "\n",
              "  <style>\n",
              "    .colab-df-container {\n",
              "      display:flex;\n",
              "      gap: 12px;\n",
              "    }\n",
              "\n",
              "    .colab-df-convert {\n",
              "      background-color: #E8F0FE;\n",
              "      border: none;\n",
              "      border-radius: 50%;\n",
              "      cursor: pointer;\n",
              "      display: none;\n",
              "      fill: #1967D2;\n",
              "      height: 32px;\n",
              "      padding: 0 0 0 0;\n",
              "      width: 32px;\n",
              "    }\n",
              "\n",
              "    .colab-df-convert:hover {\n",
              "      background-color: #E2EBFA;\n",
              "      box-shadow: 0px 1px 2px rgba(60, 64, 67, 0.3), 0px 1px 3px 1px rgba(60, 64, 67, 0.15);\n",
              "      fill: #174EA6;\n",
              "    }\n",
              "\n",
              "    .colab-df-buttons div {\n",
              "      margin-bottom: 4px;\n",
              "    }\n",
              "\n",
              "    [theme=dark] .colab-df-convert {\n",
              "      background-color: #3B4455;\n",
              "      fill: #D2E3FC;\n",
              "    }\n",
              "\n",
              "    [theme=dark] .colab-df-convert:hover {\n",
              "      background-color: #434B5C;\n",
              "      box-shadow: 0px 1px 3px 1px rgba(0, 0, 0, 0.15);\n",
              "      filter: drop-shadow(0px 1px 2px rgba(0, 0, 0, 0.3));\n",
              "      fill: #FFFFFF;\n",
              "    }\n",
              "  </style>\n",
              "\n",
              "    <script>\n",
              "      const buttonEl =\n",
              "        document.querySelector('#df-08bc6282-cd45-4118-86d6-d5c645242415 button.colab-df-convert');\n",
              "      buttonEl.style.display =\n",
              "        google.colab.kernel.accessAllowed ? 'block' : 'none';\n",
              "\n",
              "      async function convertToInteractive(key) {\n",
              "        const element = document.querySelector('#df-08bc6282-cd45-4118-86d6-d5c645242415');\n",
              "        const dataTable =\n",
              "          await google.colab.kernel.invokeFunction('convertToInteractive',\n",
              "                                                    [key], {});\n",
              "        if (!dataTable) return;\n",
              "\n",
              "        const docLinkHtml = 'Like what you see? Visit the ' +\n",
              "          '<a target=\"_blank\" href=https://colab.research.google.com/notebooks/data_table.ipynb>data table notebook</a>'\n",
              "          + ' to learn more about interactive tables.';\n",
              "        element.innerHTML = '';\n",
              "        dataTable['output_type'] = 'display_data';\n",
              "        await google.colab.output.renderOutput(dataTable, element);\n",
              "        const docLink = document.createElement('div');\n",
              "        docLink.innerHTML = docLinkHtml;\n",
              "        element.appendChild(docLink);\n",
              "      }\n",
              "    </script>\n",
              "  </div>\n",
              "\n",
              "\n",
              "    <div id=\"df-5f47e689-38c3-446f-ad93-08626efd5905\">\n",
              "      <button class=\"colab-df-quickchart\" onclick=\"quickchart('df-5f47e689-38c3-446f-ad93-08626efd5905')\"\n",
              "                title=\"Suggest charts\"\n",
              "                style=\"display:none;\">\n",
              "\n",
              "<svg xmlns=\"http://www.w3.org/2000/svg\" height=\"24px\"viewBox=\"0 0 24 24\"\n",
              "     width=\"24px\">\n",
              "    <g>\n",
              "        <path d=\"M19 3H5c-1.1 0-2 .9-2 2v14c0 1.1.9 2 2 2h14c1.1 0 2-.9 2-2V5c0-1.1-.9-2-2-2zM9 17H7v-7h2v7zm4 0h-2V7h2v10zm4 0h-2v-4h2v4z\"/>\n",
              "    </g>\n",
              "</svg>\n",
              "      </button>\n",
              "\n",
              "<style>\n",
              "  .colab-df-quickchart {\n",
              "      --bg-color: #E8F0FE;\n",
              "      --fill-color: #1967D2;\n",
              "      --hover-bg-color: #E2EBFA;\n",
              "      --hover-fill-color: #174EA6;\n",
              "      --disabled-fill-color: #AAA;\n",
              "      --disabled-bg-color: #DDD;\n",
              "  }\n",
              "\n",
              "  [theme=dark] .colab-df-quickchart {\n",
              "      --bg-color: #3B4455;\n",
              "      --fill-color: #D2E3FC;\n",
              "      --hover-bg-color: #434B5C;\n",
              "      --hover-fill-color: #FFFFFF;\n",
              "      --disabled-bg-color: #3B4455;\n",
              "      --disabled-fill-color: #666;\n",
              "  }\n",
              "\n",
              "  .colab-df-quickchart {\n",
              "    background-color: var(--bg-color);\n",
              "    border: none;\n",
              "    border-radius: 50%;\n",
              "    cursor: pointer;\n",
              "    display: none;\n",
              "    fill: var(--fill-color);\n",
              "    height: 32px;\n",
              "    padding: 0;\n",
              "    width: 32px;\n",
              "  }\n",
              "\n",
              "  .colab-df-quickchart:hover {\n",
              "    background-color: var(--hover-bg-color);\n",
              "    box-shadow: 0 1px 2px rgba(60, 64, 67, 0.3), 0 1px 3px 1px rgba(60, 64, 67, 0.15);\n",
              "    fill: var(--button-hover-fill-color);\n",
              "  }\n",
              "\n",
              "  .colab-df-quickchart-complete:disabled,\n",
              "  .colab-df-quickchart-complete:disabled:hover {\n",
              "    background-color: var(--disabled-bg-color);\n",
              "    fill: var(--disabled-fill-color);\n",
              "    box-shadow: none;\n",
              "  }\n",
              "\n",
              "  .colab-df-spinner {\n",
              "    border: 2px solid var(--fill-color);\n",
              "    border-color: transparent;\n",
              "    border-bottom-color: var(--fill-color);\n",
              "    animation:\n",
              "      spin 1s steps(1) infinite;\n",
              "  }\n",
              "\n",
              "  @keyframes spin {\n",
              "    0% {\n",
              "      border-color: transparent;\n",
              "      border-bottom-color: var(--fill-color);\n",
              "      border-left-color: var(--fill-color);\n",
              "    }\n",
              "    20% {\n",
              "      border-color: transparent;\n",
              "      border-left-color: var(--fill-color);\n",
              "      border-top-color: var(--fill-color);\n",
              "    }\n",
              "    30% {\n",
              "      border-color: transparent;\n",
              "      border-left-color: var(--fill-color);\n",
              "      border-top-color: var(--fill-color);\n",
              "      border-right-color: var(--fill-color);\n",
              "    }\n",
              "    40% {\n",
              "      border-color: transparent;\n",
              "      border-right-color: var(--fill-color);\n",
              "      border-top-color: var(--fill-color);\n",
              "    }\n",
              "    60% {\n",
              "      border-color: transparent;\n",
              "      border-right-color: var(--fill-color);\n",
              "    }\n",
              "    80% {\n",
              "      border-color: transparent;\n",
              "      border-right-color: var(--fill-color);\n",
              "      border-bottom-color: var(--fill-color);\n",
              "    }\n",
              "    90% {\n",
              "      border-color: transparent;\n",
              "      border-bottom-color: var(--fill-color);\n",
              "    }\n",
              "  }\n",
              "</style>\n",
              "\n",
              "      <script>\n",
              "        async function quickchart(key) {\n",
              "          const quickchartButtonEl =\n",
              "            document.querySelector('#' + key + ' button');\n",
              "          quickchartButtonEl.disabled = true;  // To prevent multiple clicks.\n",
              "          quickchartButtonEl.classList.add('colab-df-spinner');\n",
              "          try {\n",
              "            const charts = await google.colab.kernel.invokeFunction(\n",
              "                'suggestCharts', [key], {});\n",
              "          } catch (error) {\n",
              "            console.error('Error during call to suggestCharts:', error);\n",
              "          }\n",
              "          quickchartButtonEl.classList.remove('colab-df-spinner');\n",
              "          quickchartButtonEl.classList.add('colab-df-quickchart-complete');\n",
              "        }\n",
              "        (() => {\n",
              "          let quickchartButtonEl =\n",
              "            document.querySelector('#df-5f47e689-38c3-446f-ad93-08626efd5905 button');\n",
              "          quickchartButtonEl.style.display =\n",
              "            google.colab.kernel.accessAllowed ? 'block' : 'none';\n",
              "        })();\n",
              "      </script>\n",
              "    </div>\n",
              "\n",
              "    </div>\n",
              "  </div>\n"
            ],
            "application/vnd.google.colaboratory.intrinsic+json": {
              "type": "dataframe",
              "summary": "{\n  \"name\": \"df\",\n  \"rows\": 8,\n  \"fields\": [\n    {\n      \"column\": \"age\",\n      \"properties\": {\n        \"dtype\": \"number\",\n        \"std\": 460.6106090399993,\n        \"min\": 14.049960379216172,\n        \"max\": 1338.0,\n        \"num_unique_values\": 8,\n        \"samples\": [\n          39.20702541106129,\n          39.0,\n          1338.0\n        ],\n        \"semantic_type\": \"\",\n        \"description\": \"\"\n      }\n    },\n    {\n      \"column\": \"bmi\",\n      \"properties\": {\n        \"dtype\": \"number\",\n        \"std\": 463.29524977918294,\n        \"min\": 6.098186911679017,\n        \"max\": 1338.0,\n        \"num_unique_values\": 8,\n        \"samples\": [\n          30.66339686098655,\n          30.4,\n          1338.0\n        ],\n        \"semantic_type\": \"\",\n        \"description\": \"\"\n      }\n    },\n    {\n      \"column\": \"children\",\n      \"properties\": {\n        \"dtype\": \"number\",\n        \"std\": 472.5368318870757,\n        \"min\": 0.0,\n        \"max\": 1338.0,\n        \"num_unique_values\": 7,\n        \"samples\": [\n          1338.0,\n          1.0949177877429,\n          2.0\n        ],\n        \"semantic_type\": \"\",\n        \"description\": \"\"\n      }\n    }\n  ]\n}"
            }
          },
          "metadata": {},
          "execution_count": 3
        }
      ],
      "source": [
        "# Veri Yükleme\n",
        "df = pd.read_csv('insurance.csv', sep=';')\n",
        "df.info()\n",
        "\n",
        "#Eksik veri kontrolü yapıldı\n",
        "df.isnull().any().any()\n",
        "df.head(10)\n",
        "df.describe()\n"
      ]
    },
    {
      "cell_type": "markdown",
      "metadata": {
        "id": "9BoksF-X4rfl"
      },
      "source": [
        "# New Section"
      ]
    },
    {
      "cell_type": "markdown",
      "metadata": {
        "id": "7Rth7rxiup-4"
      },
      "source": [
        " Kütüphane Yükleme ve Veri İnceleme\n",
        "Kütüphaneler: numpy (sayısal işlemler), pandas (veri manipülasyonu), matplotlib.pyplot ve seaborn (veri görselleştirme), sklearn (makine öğrenimi algoritmaları ve yardımcı araçlar) gibi temel kütüphaneler içe aktarılır.\n",
        "\n",
        "Veri Yükleme: insurance.csv adlı CSV dosyası pd.read_csv('insurance.csv', sep=';') komutuyla yüklenir. sep=';' ifadesi, dosyanın noktalı virgülle ayrılmış olduğunu belirtir.\n",
        "\n",
        "İlk İnceleme:\n",
        "\n",
        "df.info(): Veri çerçevesinin genel bilgilerini (sütun adları, veri tipleri, eksik olmayan değer sayısı) gösterir.\n",
        "\n",
        "df.isnull().sum(): Her sütundaki eksik değer sayısını kontrol eder.\n",
        "\n",
        "df.head(): Veri çerçevesinin ilk 5 satırını görüntüler.\n",
        "\n",
        "df.describe(): Sayısal sütunların istatistiksel özetini (ortalama, standart sapma, min, max vb.) sunar."
      ]
    },
    {
      "cell_type": "markdown",
      "metadata": {
        "id": "sxQQg5Mxufwd"
      },
      "source": []
    },
    {
      "cell_type": "code",
      "execution_count": 4,
      "metadata": {
        "id": "Y3rr1tLbxg9j"
      },
      "outputs": [],
      "source": [
        "\n",
        "# 'charges' sütununu sayısala çevirme\n",
        "# (Nokta yerine boşluk koyup virgül gibi davranmasını engelleme)\n",
        "df['charges'] = df['charges'].str.replace('.', '', regex=False).astype(float)\n",
        "\n",
        "# One-hot encoding uygulama\n",
        "df_encoded = pd.get_dummies(df, columns=['sex', 'smoker', 'region'], drop_first=True)\n",
        "\n",
        "# Özellikler ve hedef değişken\n",
        "X = df_encoded.drop('charges', axis=1)\n",
        "y = df_encoded['charges']\n",
        "\n",
        "# Sadece sayısal sütunları seç\n",
        "numeric_columns = df.select_dtypes(include=['int64', 'float64']).columns\n"
      ]
    },
    {
      "cell_type": "markdown",
      "metadata": {
        "id": "wkUiFmCRuxxm"
      },
      "source": [
        "Veri Temizleme ve Ön İşleme\n",
        "'charges' Sütunu Dönüşümü: df['charges'] = df['charges'].str.replace('.', '', regex=False).astype(float) satırı, 'charges' (sigorta masrafları) sütunundaki ondalık ayırıcı olarak kullanılan noktaları kaldırır ve sütunu float (ondalıklı sayı) veri tipine dönüştürür. Bu, büyük sayılarda binlik ayıracı olarak nokta kullanıldığı durumlarda veri tipini doğru ayarlamak için önemlidir.\n",
        "\n",
        "One-Hot Encoding: df_encoded = pd.get_dummies(df, columns=['sex', 'smoker', 'region'], drop_first=True) ile kategorik sütunlar ('sex', 'smoker', 'region') one-hot encoding'e tabi tutulur. drop_first=True parametresi, çoklu doğrusal bağıntıyı (multicollinearity) önlemek için her kategorik sütun için bir dummy değişkenini düşürür.\n",
        "\n",
        "Özellikler ve Hedef Değişken: X (bağımsız değişkenler) ve y (bağımlı değişken - 'charges') ayrılır."
      ]
    },
    {
      "cell_type": "code",
      "execution_count": 5,
      "metadata": {
        "id": "Cg6noBVFxySu"
      },
      "outputs": [],
      "source": [
        "# Aykırı Değer Filtreleme\n",
        "q01 = df['charges'].quantile(0.01)\n",
        "q99 = df['charges'].quantile(0.99)\n",
        "df_filtered = df[(df['charges'] > q01) & (df['charges'] < q99)]\n"
      ]
    },
    {
      "cell_type": "markdown",
      "metadata": {
        "id": "NIgsYcznu1dt"
      },
      "source": [
        "Aykırı Değer Filtreleme\n",
        "charges sütunu için %1 ve %99'luk çeyreklikleri (quantile) kullanarak aykırı değerler filtrelenir. Bu, aşırı düşük veya aşırı yüksek değerlerin analizden çıkarılmasını sağlar ve df_filtered adlı yeni bir veri çerçevesi oluşturulur."
      ]
    },
    {
      "cell_type": "code",
      "execution_count": null,
      "metadata": {
        "id": "RhcmH8VsyK7L"
      },
      "outputs": [],
      "source": [
        "# Boxplot çizimi\n",
        "plt.figure(figsize=(11, 5))\n",
        "for i, column in enumerate(numeric_columns):\n",
        "    plt.subplot(1, len(numeric_columns), i + 1)\n",
        "    sns.boxplot(y=df[column])\n",
        "    plt.title(column)\n",
        "plt.tight_layout()\n",
        "plt.show()"
      ]
    },
    {
      "cell_type": "code",
      "execution_count": null,
      "metadata": {
        "id": "43LEVIycyDJ7"
      },
      "outputs": [],
      "source": [
        "# Dağılım grafiği\n",
        "plt.figure(figsize=(10, 5))\n",
        "sns.histplot(df['charges'], kde=True, color='skyblue')\n",
        "plt.title('Quality Distribution Plot', fontsize=15)\n",
        "plt.show()\n"
      ]
    },
    {
      "cell_type": "code",
      "execution_count": null,
      "metadata": {
        "id": "7Ix9ifM5Gzjg"
      },
      "outputs": [],
      "source": [
        "# Değişkenler Arası İlişki Matrisi (Pair Plot)\n",
        "sns_plot = sns.pairplot(df)"
      ]
    },
    {
      "cell_type": "markdown",
      "metadata": {
        "id": "mk48b4W1FDvb"
      },
      "source": []
    },
    {
      "cell_type": "code",
      "execution_count": null,
      "metadata": {
        "id": "4UhJiHoKGrq_"
      },
      "outputs": [],
      "source": [
        "\n",
        "# Saçılım Grafikleri Oluşturma\n",
        "\n",
        "plt.figure(figsize=(15, 5))\n",
        "plt.subplot(1, 3, 1)\n",
        "sns.scatterplot(x='age', y='charges', hue='smoker', data=df, palette='viridis')\n",
        "plt.title('Charges vs. Age')\n",
        "\n",
        "plt.subplot(1, 3, 2)\n",
        "sns.scatterplot(x='bmi', y='charges', hue='smoker', data=df, palette='viridis')\n",
        "plt.title('Charges vs. BMI')\n",
        "\n",
        "plt.subplot(1, 3, 3)\n",
        "sns.scatterplot(x='children', y='charges', hue='smoker', data=df, palette='viridis')\n",
        "plt.title('Charges vs. Children')\n",
        "plt.tight_layout()\n",
        "plt.show()"
      ]
    },
    {
      "cell_type": "code",
      "execution_count": null,
      "metadata": {
        "id": "n7hcv50AGmYl"
      },
      "outputs": [],
      "source": [
        "import seaborn as sns\n",
        "import matplotlib.pyplot as plt\n",
        "\n",
        "# Pairplot\n",
        "plt.figure(figsize=(10, 8))\n",
        "sns.pairplot(df, hue='smoker', vars=['age', 'bmi', 'children', 'charges'])\n",
        "plt.show()\n",
        "\n",
        "# Heatmap için sadece sayısal sütunları al\n",
        "numeric_df = df.select_dtypes(include=['number'])\n",
        "\n",
        "plt.figure(figsize=(8, 6))\n",
        "sns.heatmap(numeric_df.corr(), annot=True, cmap='coolwarm', fmt=\".2f\")\n",
        "plt.title('Correlation Matrix Heatmap')\n",
        "plt.show()"
      ]
    },
    {
      "cell_type": "markdown",
      "metadata": {
        "id": "mrBAD2Cru-f3"
      },
      "source": [
        "Keşifsel Veri Analizi (EDA) - Görselleştirmeler\n",
        "Boxplotlar: Sayısal sütunlardaki (age, bmi, children, charges) aykırı değerleri ve dağılımı görselleştirmek için kutu grafikleri (boxplots) çizilir.\n",
        "\n",
        "Dağılım Grafiği (Histogram ve KDE): charges sütununun dağılımını gösteren bir histogram ve yoğunluk tahmini (KDE - Kernel Density Estimate) çizilir. Başlıkta \"Quality Distribution Plot\" yazsa da, bu aslında 'charges' dağılımını göstermektedir.\n",
        "\n",
        "Pair Plot: Veri çerçevesindeki tüm sayısal sütunlar arasındaki ikili ilişkileri (dağılımlar ve saçılım grafikleri) gösteren bir pair plot oluşturulur.\n",
        "\n",
        "Saçılım Grafikleri:\n",
        "\n",
        "age vs. charges\n",
        "\n",
        "bmi vs. charges\n",
        "\n",
        "children vs. charges\n",
        "Bu grafikler, 'smoker' (sigara içen) durumuna göre renklendirilerek, sigara içmenin masraflar üzerindeki etkisini incelemeye yardımcı olur.\n",
        "\n",
        "Korelasyon Isı Haritası: Sayısal sütunlar arasındaki korelasyonu gösteren bir ısı haritası çizilir. Bu, değişkenler arasındaki doğrusal ilişkilerin gücünü ve yönünü anlamak için faydalıdır."
      ]
    },
    {
      "cell_type": "code",
      "execution_count": 11,
      "metadata": {
        "id": "H_zhuSDqGjKw",
        "colab": {
          "base_uri": "https://localhost:8080/"
        },
        "outputId": "50bd0357-8fc2-4164-c3b3-72eac0eb36f5"
      },
      "outputs": [
        {
          "output_type": "stream",
          "name": "stdout",
          "text": [
            "     age    bmi  children  sex_male  smoker_yes  region_northwest  \\\n",
            "203   27  36.08         0     False        True             False   \n",
            "310   50  26.60         0      True       False             False   \n",
            "491   61  25.08         0     False       False             False   \n",
            "339   46  27.72         1     False       False             False   \n",
            "10    25  26.22         0      True       False             False   \n",
            "\n",
            "     region_southeast  region_southwest  \n",
            "203              True             False  \n",
            "310             False              True  \n",
            "491              True             False  \n",
            "339              True             False  \n",
            "10              False             False  \n"
          ]
        }
      ],
      "source": [
        "# Kodlama ve Bölme\n",
        "def encode_and_split(df, target='charges', test_size=0.2):\n",
        "    df_encoded = pd.get_dummies(df, columns=['sex', 'smoker', 'region'], drop_first=True)\n",
        "    X = df_encoded.drop(target, axis=1)\n",
        "    y = df_encoded[target]\n",
        "    return train_test_split(X, y, test_size=test_size, random_state=42)\n",
        "\n",
        "X_train, X_test, y_train_raw, y_test_raw = encode_and_split(df_filtered)\n",
        "\n",
        "print(X_train.head())\n"
      ]
    },
    {
      "cell_type": "markdown",
      "metadata": {
        "id": "DsxfpvUSvCs4"
      },
      "source": [
        "Veri Bölme ve Dönüşüm\n",
        "encode_and_split Fonksiyonu: Bu fonksiyon, verilen veri çerçevesini tekrar one-hot encoding'e tabi tutar, hedef değişkeni ayırır ve veriyi eğitim (X_train, y_train_raw) ve test (X_test, y_test_raw) setlerine böler.\n",
        "\n"
      ]
    },
    {
      "cell_type": "code",
      "execution_count": 12,
      "metadata": {
        "id": "E3LE9t1EGg28"
      },
      "outputs": [],
      "source": [
        "# Log Dönüşümü\n",
        "def log_transform(y):\n",
        "    return np.log1p(y), np.expm1\n",
        "\n",
        "y_train, inverse_transform = log_transform(y_train_raw)\n",
        "y_test, _ = log_transform(y_test_raw)\n"
      ]
    },
    {
      "cell_type": "markdown",
      "metadata": {
        "id": "mikeptT1vRLo"
      },
      "source": [
        "\n",
        "\n",
        " Log Dönüşümü: log_transform fonksiyonu, hedef değişken olan y'ye np.log1p (log(1+x)) dönüşümü uygular. Bu, genellikle sağa çarpık dağılıma sahip verilerde (örneğin, masraflar gibi) model performansını artırmak ve varsayımları karşılamak için yapılır. np.expm1 ise ters dönüşüm için bir referans olarak döndürülür.\n",
        "\n",
        " Yani, bu kullandığımız veri setindeki charges gibi finansal veya sayım verilerinde yaygın olarak kullanılan güçlü bir ön işleme adımıdır. Verinin dağılımını iyileştirerek, aykırı değerlerin etkisini azaltarak ve model varsayımlarını karşılayarak makine öğrenimi modellerinin performansını ve genellenebilirliğini artırır."
      ]
    },
    {
      "cell_type": "code",
      "execution_count": null,
      "metadata": {
        "id": "yFk44adGyvWj"
      },
      "outputs": [],
      "source": [
        "from sklearn.preprocessing import StandardScaler\n",
        "\n",
        "scaler = StandardScaler()\n",
        "X_scaled = scaler.fit_transform(X)\n",
        "\n",
        "# PCA Görselleştirmesi\n",
        "pca = PCA(n_components=2)\n",
        "X_pca = pca.fit_transform(scaler.fit_transform(X))\n",
        "plt.scatter(X_pca[:, 0], X_pca[:, 1], c='blue', alpha=0.5)\n",
        "plt.title('PCA Görselleştirmesi')\n",
        "plt.show()"
      ]
    },
    {
      "cell_type": "code",
      "execution_count": 14,
      "metadata": {
        "id": "Wj0raci-GSEC"
      },
      "outputs": [],
      "source": [
        "#Modellerin Tanımı ve Eğitimi\n",
        "\n",
        "models = {\n",
        "    'Doğrusal Regresyon': Pipeline([\n",
        "        ('ölçekleyici', StandardScaler()),\n",
        "        ('model', LinearRegression())\n",
        "    ]),\n",
        "    'Ridge Regresyonu': Pipeline([\n",
        "        ('ölçekleyici', StandardScaler()),\n",
        "        ('model', Ridge(alpha=1.0))\n",
        "    ]),\n",
        "    'Rastgele Orman': Pipeline([\n",
        "        ('model', RandomForestRegressor(n_estimators=100, random_state=42))\n",
        "    ])\n",
        "}\n",
        "\n",
        "results = []\n",
        "\n",
        "for name, pipeline in models.items():\n",
        "    pipeline.fit(X_train, y_train)\n",
        "    y_pred_log = pipeline.predict(X_test)\n",
        "    y_pred = inverse_transform(y_pred_log)\n",
        "    y_true = inverse_transform(y_test)\n",
        "    rmse = np.sqrt(mean_squared_error(y_true, y_pred))\n",
        "    r2 = r2_score(y_true, y_pred)\n",
        "    results.append({'Model': name, 'RMSE': rmse, 'R2': r2})\n"
      ]
    },
    {
      "cell_type": "code",
      "execution_count": 15,
      "metadata": {
        "id": "HuejqZCay3_E"
      },
      "outputs": [],
      "source": [
        "# Örnek Model Sonuçları (örnek amaçlı, gerçek modeller burada eğitilmeli)\n",
        "results = [\n",
        "    {'Model': 'Linear Regression', 'RMSE': 4500, 'R2': 0.82},\n",
        "    {'Model': 'Random Forest', 'RMSE': 3200, 'R2': 0.89},\n",
        "    {'Model': 'Gradient Boosting', 'RMSE': 3100, 'R2': 0.90}\n",
        "]\n"
      ]
    },
    {
      "cell_type": "code",
      "execution_count": 16,
      "metadata": {
        "colab": {
          "base_uri": "https://localhost:8080/"
        },
        "id": "psTfIv42GMQi",
        "outputId": "ae3fe060-873c-4ccd-e060-3f884b194b48"
      },
      "outputs": [
        {
          "output_type": "stream",
          "name": "stdout",
          "text": [
            "               Model  RMSE    R2\n",
            "2  Gradient Boosting  3100  0.90\n",
            "1      Random Forest  3200  0.89\n",
            "0  Linear Regression  4500  0.82\n"
          ]
        }
      ],
      "source": [
        "\n",
        "# Sonuç Karşılaştırması\n",
        "results_df = pd.DataFrame(results)\n",
        "print(results_df.sort_values(by='RMSE'))\n"
      ]
    },
    {
      "cell_type": "markdown",
      "metadata": {
        "id": "zQm9lpwHvNSn"
      },
      "source": [
        "Örnek Model Sonuçları ve Karşılaştırma\n",
        "Placeholder Sonuçlar: Bu bölüm, farklı makine öğrenimi modelleri (Lineer Regresyon, Random Forest, Gradient Boosting) için örnek RMSE (Ortalama Kare Hata Kökü) ve R2 (Belirleme Katsayısı) değerlerini içeren bir liste tanımlar. Bu değerler gerçek model eğitiminden gelmemektedir, sadece örnek amaçlıdır.\n",
        "\n",
        "Sonuç Karşılaştırması: Tanımlanan örnek sonuçlar bir DataFrame'e dönüştürülür ve RMSE'ye göre sıralanır.\n"
      ]
    },
    {
      "cell_type": "code",
      "execution_count": null,
      "metadata": {
        "id": "I_Z3IBw0GIZl"
      },
      "outputs": [],
      "source": [
        "\n",
        "# Grafiklerle görselleştirme\n",
        "plt.figure(figsize=(8, 5))\n",
        "sns.barplot(data=results_df, x='Model', y='RMSE', palette='coolwarm')\n",
        "plt.title(\"Modellere Göre RMSE Karşılaştırması\")\n",
        "plt.ylabel(\"RMSE (Düşük = Daha İyi)\")\n",
        "plt.xticks(rotation=45)\n",
        "plt.tight_layout()\n",
        "plt.show()\n",
        "\n",
        "plt.figure(figsize=(8, 5))\n",
        "sns.barplot(data=results_df, x='Model', y='R2', palette='viridis')\n",
        "plt.title(\"Modellere Göre R2 Karşılaştırması\")\n",
        "plt.ylabel(\"R2 Skoru (Yüksek = Daha İyi)\")\n",
        "plt.xticks(rotation=45)\n",
        "plt.tight_layout()\n",
        "plt.show()"
      ]
    },
    {
      "cell_type": "markdown",
      "metadata": {
        "id": "-8HEsT2yvw2p"
      },
      "source": [
        "Görselleştirme: RMSE ve R2 skorlarını modellere göre karşılaştıran çubuk grafikler (bar plots) çizilir. Bu grafikler, hangi modelin (örnek verilere göre) daha iyi performans gösterdiğini görsel olarak sunar."
      ]
    },
    {
      "cell_type": "code",
      "execution_count": 18,
      "metadata": {
        "id": "8ViYzl36Lz_C"
      },
      "outputs": [],
      "source": [
        "from google.colab import output\n",
        "output.clear()  # bu sadece anlık çıktıyı temizler"
      ]
    },
    {
      "cell_type": "code",
      "execution_count": 19,
      "metadata": {
        "colab": {
          "base_uri": "https://localhost:8080/",
          "height": 17
        },
        "id": "ghBJC4DeL4Qe",
        "outputId": "561f3fb8-ff02-49b2-f412-47153a635809"
      },
      "outputs": [
        {
          "output_type": "display_data",
          "data": {
            "text/plain": [
              "<IPython.core.display.Javascript object>"
            ],
            "application/javascript": [
              "\n",
              "    async function download(id, filename, size) {\n",
              "      if (!google.colab.kernel.accessAllowed) {\n",
              "        return;\n",
              "      }\n",
              "      const div = document.createElement('div');\n",
              "      const label = document.createElement('label');\n",
              "      label.textContent = `Downloading \"${filename}\": `;\n",
              "      div.appendChild(label);\n",
              "      const progress = document.createElement('progress');\n",
              "      progress.max = size;\n",
              "      div.appendChild(progress);\n",
              "      document.body.appendChild(div);\n",
              "\n",
              "      const buffers = [];\n",
              "      let downloaded = 0;\n",
              "\n",
              "      const channel = await google.colab.kernel.comms.open(id);\n",
              "      // Send a message to notify the kernel that we're ready.\n",
              "      channel.send({})\n",
              "\n",
              "      for await (const message of channel.messages) {\n",
              "        // Send a message to notify the kernel that we're ready.\n",
              "        channel.send({})\n",
              "        if (message.buffers) {\n",
              "          for (const buffer of message.buffers) {\n",
              "            buffers.push(buffer);\n",
              "            downloaded += buffer.byteLength;\n",
              "            progress.value = downloaded;\n",
              "          }\n",
              "        }\n",
              "      }\n",
              "      const blob = new Blob(buffers, {type: 'application/binary'});\n",
              "      const a = document.createElement('a');\n",
              "      a.href = window.URL.createObjectURL(blob);\n",
              "      a.download = filename;\n",
              "      div.appendChild(a);\n",
              "      a.click();\n",
              "      div.remove();\n",
              "    }\n",
              "  "
            ]
          },
          "metadata": {}
        },
        {
          "output_type": "display_data",
          "data": {
            "text/plain": [
              "<IPython.core.display.Javascript object>"
            ],
            "application/javascript": [
              "download(\"download_19df713a-f2f7-418f-b0bf-5fdba44ab8c2\", \"insurance.csv\", 57093)"
            ]
          },
          "metadata": {}
        }
      ],
      "source": [
        "from google.colab import files\n",
        "files.download(\"insurance.csv\")"
      ]
    },
    {
      "cell_type": "code",
      "execution_count": 19,
      "metadata": {
        "id": "AcIBczQ7xTbm"
      },
      "outputs": [],
      "source": []
    }
  ],
  "metadata": {
    "colab": {
      "provenance": [],
      "mount_file_id": "1QtFubsVYhSpLjZB9jyyk_4kqy9KdHXWo",
      "authorship_tag": "ABX9TyOaw1XCr43wIxxfqbScxf5d",
      "include_colab_link": true
    },
    "kernelspec": {
      "display_name": "Python 3",
      "name": "python3"
    },
    "language_info": {
      "name": "python"
    }
  },
  "nbformat": 4,
  "nbformat_minor": 0
}